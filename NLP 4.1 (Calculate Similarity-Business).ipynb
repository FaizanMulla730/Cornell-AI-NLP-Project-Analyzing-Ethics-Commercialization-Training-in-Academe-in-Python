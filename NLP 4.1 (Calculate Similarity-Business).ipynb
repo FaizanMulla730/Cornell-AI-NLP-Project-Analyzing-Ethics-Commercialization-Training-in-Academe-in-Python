{
 "cells": [
  {
   "cell_type": "code",
   "execution_count": 1,
   "id": "35533b92-e63b-41f6-af2f-684c0dac7a4c",
   "metadata": {},
   "outputs": [],
   "source": [
    "import torch\n",
    "import pandas as pd\n",
    "from transformers import BertModel, BertTokenizer\n",
    "from concurrent.futures import ThreadPoolExecutor"
   ]
  },
  {
   "cell_type": "code",
   "execution_count": 2,
   "id": "41d61c71-f6f7-483a-8d2c-befa1c4fe565",
   "metadata": {},
   "outputs": [
    {
     "name": "stderr",
     "output_type": "stream",
     "text": [
      "/opt/anaconda3/lib/python3.11/site-packages/huggingface_hub/file_download.py:1132: FutureWarning: `resume_download` is deprecated and will be removed in version 1.0.0. Downloads always resume when possible. If you want to force a new download, use `force_download=True`.\n",
      "  warnings.warn(\n"
     ]
    }
   ],
   "source": [
    "# Initialize tokenizer and model\n",
    "tokenizer = BertTokenizer.from_pretrained('bert-base-uncased')\n",
    "model = BertModel.from_pretrained('bert-base-uncased')\n"
   ]
  },
  {
   "cell_type": "code",
   "execution_count": 3,
   "id": "4bac3440-18be-4567-9810-e48f6ee9c100",
   "metadata": {},
   "outputs": [],
   "source": [
    "# Define candidate keywords\n",
    "candidate_keywords = [\n",
    "    \"marketing\", \"finance\", \"investment\", \"startup\",\n",
    "    \"entrepreneurship\", \"management\", \"corporate\", \"economics\",\n",
    "    \"venture capital\", \"market analysis\", \"business development\",\n",
    "    \"commercialization\", \"innovation\", \"strategic planning\"\n",
    "]"
   ]
  },
  {
   "cell_type": "code",
   "execution_count": 4,
   "id": "de26e9a5-6f44-4251-97ea-45e18de01d7b",
   "metadata": {},
   "outputs": [],
   "source": [
    "# Function to get word embeddings in tensor format\n",
    "def get_word_embedding(word, tokenizer, model):\n",
    "    tokens = tokenizer(word, return_tensors='pt')\n",
    "    with torch.no_grad():\n",
    "        outputs = model(**tokens)\n",
    "    return outputs.last_hidden_state.mean(dim=1)\n"
   ]
  },
  {
   "cell_type": "code",
   "execution_count": 5,
   "id": "c070ba04-a529-4e4e-b980-c6241445d4a3",
   "metadata": {},
   "outputs": [],
   "source": [
    "# Precompute embeddings for candidate keywords\n",
    "candidate_embeddings = [get_word_embedding(word, tokenizer, model) for word in candidate_keywords]"
   ]
  },
  {
   "cell_type": "code",
   "execution_count": 6,
   "id": "70396360-15cb-467a-bb02-b2b2b16b3247",
   "metadata": {},
   "outputs": [],
   "source": [
    "# Function to calculate cosine similarity\n",
    "def cosine_similarity(vec1, vec2):\n",
    "    return torch.nn.functional.cosine_similarity(vec1, vec2).item()"
   ]
  },
  {
   "cell_type": "code",
   "execution_count": 7,
   "id": "84b9467b-6724-4e3e-9412-248a3d3c53c5",
   "metadata": {},
   "outputs": [],
   "source": [
    "# Function to calculate similarity for each row\n",
    "def calculate_similarity(keywords):\n",
    "    keywords = keywords.strip(\"[]\").replace(\"'\", \"\").split(\",\")\n",
    "    count = 0\n",
    "    matching_keywords = []\n",
    "    for keyword in keywords:\n",
    "        keyword_vec = get_word_embedding(keyword, tokenizer, model)\n",
    "        for business_word_vec in candidate_embeddings:\n",
    "            similarity = cosine_similarity(keyword_vec, business_word_vec)\n",
    "            if similarity >= 0.84:\n",
    "                count += 1\n",
    "                matching_keywords.append(keyword)\n",
    "                break\n",
    "    return count, matching_keywords"
   ]
  },
  {
   "cell_type": "code",
   "execution_count": 8,
   "id": "b7b9fcfd-52e0-4898-8cb8-3148c1563a3e",
   "metadata": {},
   "outputs": [],
   "source": [
    "# Load the CSV file\n",
    "file_path = \"/Users/faizanmulla/Desktop/MENG Project 2/MEngProject2/final_extracted_data.csv\"\n",
    "df = pd.read_csv(file_path)\n"
   ]
  },
  {
   "cell_type": "code",
   "execution_count": 12,
   "id": "c2a010d4-3c54-4b7a-935f-3a80d742c21b",
   "metadata": {},
   "outputs": [],
   "source": [
    "# Function to process each row using ThreadPoolExecutor\n",
    "def process_row(row):\n",
    "    count, matching_keywords = calculate_similarity(row.BusinessKeywords)\n",
    "    return count, ', '.join(matching_keywords)"
   ]
  },
  {
   "cell_type": "code",
   "execution_count": 13,
   "id": "63f4f0b6-5350-4c50-86c2-88861ce093b7",
   "metadata": {},
   "outputs": [],
   "source": [
    "# Apply the function to each row in parallel\n",
    "with ThreadPoolExecutor(max_workers=10) as executor:\n",
    "    results = list(executor.map(process_row, df.itertuples(index=False)))"
   ]
  },
  {
   "cell_type": "code",
   "execution_count": 14,
   "id": "838c0655-e465-480e-9073-7715fe1f9927",
   "metadata": {},
   "outputs": [
    {
     "name": "stdout",
     "output_type": "stream",
     "text": [
      "BusinessCount and ExtractedKeywords columns added and CSV file saved.\n"
     ]
    }
   ],
   "source": [
    "# Update the dataframe with the results\n",
    "df['BusinessCount'], df['ExtractedKeywords'] = zip(*results)\n",
    "\n",
    "# Save the updated dataframe to a new CSV file\n",
    "output_file_path = \"/Users/faizanmulla/Desktop/MENG Project 2/MEngProject2/Final_Data_Analysis_Business.csv\"\n",
    "df.to_csv(output_file_path, index=False)\n",
    "\n",
    "print(\"BusinessCount and ExtractedKeywords columns added and CSV file saved.\")"
   ]
  }
 ],
 "metadata": {
  "kernelspec": {
   "display_name": "Python 3 (ipykernel)",
   "language": "python",
   "name": "python3"
  },
  "language_info": {
   "codemirror_mode": {
    "name": "ipython",
    "version": 3
   },
   "file_extension": ".py",
   "mimetype": "text/x-python",
   "name": "python",
   "nbconvert_exporter": "python",
   "pygments_lexer": "ipython3",
   "version": "3.8.18"
  }
 },
 "nbformat": 4,
 "nbformat_minor": 5
}
