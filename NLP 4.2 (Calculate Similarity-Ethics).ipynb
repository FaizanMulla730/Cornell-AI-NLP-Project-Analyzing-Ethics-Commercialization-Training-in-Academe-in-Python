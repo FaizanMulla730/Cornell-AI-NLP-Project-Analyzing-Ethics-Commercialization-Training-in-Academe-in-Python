{
 "cells": [
  {
   "cell_type": "code",
   "execution_count": 1,
   "id": "149c5ee9-65f3-4c4f-be13-fc52415dcd61",
   "metadata": {},
   "outputs": [],
   "source": [
    "import torch\n",
    "import pandas as pd\n",
    "from transformers import BertModel, BertTokenizer\n",
    "from concurrent.futures import ThreadPoolExecutor"
   ]
  },
  {
   "cell_type": "code",
   "execution_count": 2,
   "id": "d84d0d87-4043-4aa7-ab07-987451be6ee5",
   "metadata": {},
   "outputs": [
    {
     "name": "stderr",
     "output_type": "stream",
     "text": [
      "/opt/anaconda3/lib/python3.11/site-packages/huggingface_hub/file_download.py:1132: FutureWarning: `resume_download` is deprecated and will be removed in version 1.0.0. Downloads always resume when possible. If you want to force a new download, use `force_download=True`.\n",
      "  warnings.warn(\n"
     ]
    }
   ],
   "source": [
    "# Initialize tokenizer and model\n",
    "tokenizer = BertTokenizer.from_pretrained('bert-base-uncased')\n",
    "model = BertModel.from_pretrained('bert-base-uncased')\n"
   ]
  },
  {
   "cell_type": "code",
   "execution_count": 3,
   "id": "f32cd3ae-786f-41a2-8540-a67ad4d98342",
   "metadata": {},
   "outputs": [],
   "source": [
    "candidate_keywords = [\n",
    " \"Ethical Sustainable Design\", \"Safety Risk Management\", \"Professional Responsibility\",\n",
    " \"Animal Research Ethics\",\"Human Movement Analysis Ethics\", \"Robotics Ethics\", \"Prosthetics Ethics\",\n",
    " \"Research Data Management\", \"Research supervision\", \"Intellectual Property Rights\", \"Ethical Dilemma\",\n",
    " \"Doctor-Patient Relationship\", \"Clinical Trial Ethics\", \"Bioethics\",\"Biomedicine\",\"Patient Consent\",\n",
    " \"Legal Professional Ethics\", \"Justice and Fairness in Law\", \"Client Confidentiality\"\n",
    "]"
   ]
  },
  {
   "cell_type": "code",
   "execution_count": 4,
   "id": "ff318d0e-2f5b-463e-b341-d65a13939d84",
   "metadata": {},
   "outputs": [],
   "source": [
    "# Function to get word embeddings in tensor format\n",
    "def get_word_embedding(word, tokenizer, model):\n",
    "    tokens = tokenizer(word, return_tensors='pt')\n",
    "    with torch.no_grad():\n",
    "        outputs = model(**tokens)\n",
    "    return outputs.last_hidden_state.mean(dim=1)\n"
   ]
  },
  {
   "cell_type": "code",
   "execution_count": 5,
   "id": "81e6e563-ca91-4778-b561-4320ba87b37d",
   "metadata": {},
   "outputs": [],
   "source": [
    "# Precompute embeddings for candidate keywords\n",
    "candidate_embeddings = [get_word_embedding(word, tokenizer, model) for word in candidate_keywords]"
   ]
  },
  {
   "cell_type": "code",
   "execution_count": 6,
   "id": "48ffead9-4931-4f1e-a986-82801b70eb39",
   "metadata": {},
   "outputs": [],
   "source": [
    "# Function to calculate cosine similarity\n",
    "def cosine_similarity(vec1, vec2):\n",
    "    return torch.nn.functional.cosine_similarity(vec1, vec2).item()"
   ]
  },
  {
   "cell_type": "code",
   "execution_count": 8,
   "id": "fbf43e84-27dc-46dd-8ba6-9738bcce5694",
   "metadata": {},
   "outputs": [],
   "source": [
    "# Function to calculate similarity for each row\n",
    "def calculate_similarity(keywords):\n",
    "    keywords = keywords.strip(\"[]\").replace(\"'\", \"\").split(\",\")\n",
    "    count = 0\n",
    "    matching_keywords = []\n",
    "    for keyword in keywords:\n",
    "        keyword_vec = get_word_embedding(keyword, tokenizer, model)\n",
    "        for business_word_vec in candidate_embeddings:\n",
    "            similarity = cosine_similarity(keyword_vec, business_word_vec)\n",
    "            if similarity >= 0.7:\n",
    "                count += 1\n",
    "                matching_keywords.append(keyword)\n",
    "                break\n",
    "    return count, matching_keywords"
   ]
  },
  {
   "cell_type": "code",
   "execution_count": 10,
   "id": "6c68914b-bc3b-4267-8800-1a2f1235d217",
   "metadata": {},
   "outputs": [],
   "source": [
    "# Load the CSV file\n",
    "file_path = \"/Users/faizanmulla/Desktop/MENG Project 2/CSV MENG 2/final_extracted_data.csv\"\n",
    "df = pd.read_csv(file_path)\n"
   ]
  },
  {
   "cell_type": "code",
   "execution_count": 11,
   "id": "16fdbbbf-ae24-43ee-83c9-63b8444df747",
   "metadata": {},
   "outputs": [],
   "source": [
    "# Function to process each row using ThreadPoolExecutor\n",
    "def process_row(row):\n",
    "    count, matching_keywords = calculate_similarity(row.BusinessKeywords)\n",
    "    return count, ', '.join(matching_keywords)"
   ]
  },
  {
   "cell_type": "code",
   "execution_count": 14,
   "id": "484e7a2f-6b95-43f4-8864-f05a1e607665",
   "metadata": {},
   "outputs": [],
   "source": [
    "# Apply the function to each row in parallel\n",
    "with ThreadPoolExecutor(max_workers=12) as executor:\n",
    "    results = list(executor.map(process_row, df.itertuples(index=False)))"
   ]
  },
  {
   "cell_type": "code",
   "execution_count": 15,
   "id": "7085d58d-5728-47e3-8771-f2ca95c3d2d9",
   "metadata": {},
   "outputs": [
    {
     "name": "stdout",
     "output_type": "stream",
     "text": [
      "Ethics Count and ExtractedKeywords columns added and CSV file saved.\n"
     ]
    }
   ],
   "source": [
    "# Update the dataframe with the results\n",
    "df['EthicsCount'], df['ExtractedKeywords'] = zip(*results)\n",
    "\n",
    "# Save the updated dataframe to a new CSV file\n",
    "output_file_path = \"/Users/faizanmulla/Desktop/MENG Project 2/MEngProject2/Final_Data_Analysis_Ethics.csv\"\n",
    "df.to_csv(output_file_path, index=False)\n",
    "\n",
    "print(\"Ethics Count and ExtractedKeywords columns added and CSV file saved.\")"
   ]
  }
 ],
 "metadata": {
  "kernelspec": {
   "display_name": "Python 3 (ipykernel)",
   "language": "python",
   "name": "python3"
  },
  "language_info": {
   "codemirror_mode": {
    "name": "ipython",
    "version": 3
   },
   "file_extension": ".py",
   "mimetype": "text/x-python",
   "name": "python",
   "nbconvert_exporter": "python",
   "pygments_lexer": "ipython3",
   "version": "3.8.18"
  }
 },
 "nbformat": 4,
 "nbformat_minor": 5
}
