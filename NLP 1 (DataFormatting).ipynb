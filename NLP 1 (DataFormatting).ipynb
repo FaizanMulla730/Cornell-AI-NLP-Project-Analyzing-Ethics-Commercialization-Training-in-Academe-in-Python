{
 "cells": [
  {
   "cell_type": "code",
   "execution_count": 1,
   "id": "b7f03258",
   "metadata": {},
   "outputs": [],
   "source": [
    "import os\n",
    "import json\n",
    "import re\n",
    "\n",
    "# Set the directory containing the JSON files\n",
    "#directory = r'/Users/faizanmulla/Desktop/MENG Project 2/MEngProject2/data'\n",
    "directory = r'/Users/faizanmulla/iCloud local copy/MENG Project 2/MENG Project 2/MEngProject2/data'"
   ]
  },
  {
   "cell_type": "code",
   "execution_count": 2,
   "id": "adcb1aca",
   "metadata": {},
   "outputs": [
    {
     "name": "stdout",
     "output_type": "stream",
     "text": [
      "Count of entries with institution name 'Cornell University': 12640\n"
     ]
    }
   ],
   "source": [
    "#Code to get the university count in the dataset \n",
    "\n",
    "# Compile a regular expression pattern for case-insensitive matching of \"brown\" in the institution name\n",
    "pattern = re.compile(r'\\bUniversity of Pennsylvania\\b', re.IGNORECASE)\n",
    "\n",
    "count=0\n",
    "                                    \n",
    "# Iterate over each file in the directory\n",
    "for filename in os.listdir(directory):\n",
    "    if filename.endswith(\".json\"):  # Check if the file is a JSON file\n",
    "        file_path = os.path.join(directory, filename)  # Full path to the file\n",
    "        with open(file_path, 'r', encoding='utf-8') as file:  # Open the file for reading with UTF-8 encoding\n",
    "            for line in file:\n",
    "                data = json.loads(line)  # Load each line as a JSON object\n",
    "                # Check if the institution name matches \"Cornell University\"\n",
    "                #if data.get('institution', {}).get('name') == \"Brown University\":\n",
    "                #   cornell_count += 1\n",
    "                    \n",
    "                # Use regex to check if the institution name contains \"brown\"\n",
    "                institution_name = data.get('institution', {}).get('name', '')\n",
    "                if pattern.search(institution_name):\n",
    "                    count += 1\n",
    "\n",
    "print(\"Count of entries with institution name 'Cornell University':\", count)\n",
    "#Count of entries with institution name 'Cornell University': 12640"
   ]
  },
  {
   "cell_type": "code",
   "execution_count": 3,
   "id": "97a4ef7e",
   "metadata": {},
   "outputs": [
    {
     "ename": "FileNotFoundError",
     "evalue": "[Errno 2] No such file or directory: '/Users/faizanmulla/Desktop/MENG Project 2/MEngProject2/data'",
     "output_type": "error",
     "traceback": [
      "\u001b[0;31m---------------------------------------------------------------------------\u001b[0m",
      "\u001b[0;31mFileNotFoundError\u001b[0m                         Traceback (most recent call last)",
      "Cell \u001b[0;32mIn[3], line 23\u001b[0m\n\u001b[1;32m     20\u001b[0m json_list \u001b[38;5;241m=\u001b[39m []\n\u001b[1;32m     22\u001b[0m \u001b[38;5;66;03m# Loop through all JSON files in the directory\u001b[39;00m\n\u001b[0;32m---> 23\u001b[0m \u001b[38;5;28;01mfor\u001b[39;00m filename \u001b[38;5;129;01min\u001b[39;00m os\u001b[38;5;241m.\u001b[39mlistdir(data_dir):\n\u001b[1;32m     24\u001b[0m     \u001b[38;5;28;01mif\u001b[39;00m filename\u001b[38;5;241m.\u001b[39mendswith(\u001b[38;5;124m\"\u001b[39m\u001b[38;5;124m.json\u001b[39m\u001b[38;5;124m\"\u001b[39m):\n\u001b[1;32m     25\u001b[0m         file_path \u001b[38;5;241m=\u001b[39m os\u001b[38;5;241m.\u001b[39mpath\u001b[38;5;241m.\u001b[39mjoin(data_dir, filename)\n",
      "\u001b[0;31mFileNotFoundError\u001b[0m: [Errno 2] No such file or directory: '/Users/faizanmulla/Desktop/MENG Project 2/MEngProject2/data'"
     ]
    }
   ],
   "source": [
    "import os\n",
    "import json\n",
    "import pandas as pd\n",
    "\n",
    "# Define the directory containing the JSON files\n",
    "data_dir = r\"/Users/faizanmulla/Desktop/MENG Project 2/MEngProject2/data\"\n",
    "\n",
    "# List of institutions to include\n",
    "included_institutions = [\n",
    "    \"University of Pennsylvania\",\n",
    "    \"Columbia University\",\n",
    "    \"Cornell University\",\n",
    "    \"Yale University\",\n",
    "    \"Harvard University\",\n",
    "    \"Princeton University\"\n",
    "]\n",
    "\n",
    "# Initialize lists to store the extracted data\n",
    "data_list = []\n",
    "json_list = []\n",
    "\n",
    "# Loop through all JSON files in the directory\n",
    "for filename in os.listdir(data_dir):\n",
    "    if filename.endswith(\".json\"):\n",
    "        file_path = os.path.join(data_dir, filename)\n",
    "        \n",
    "        # Read each JSON file\n",
    "        with open(file_path, 'r') as file:\n",
    "            for line in file:\n",
    "                # Parse the JSON object\n",
    "                data = json.loads(line)\n",
    "                \n",
    "                # Extract the required fields\n",
    "                institution_name = data.get('institution', {}).get('name', None)\n",
    "                if institution_name not in included_institutions:\n",
    "                    continue  # Skip this entry if the institution is not in the list\n",
    "                \n",
    "                field_name = data.get('field', {}).get('name', None)\n",
    "                year = data.get('date', {}).get('year', None)\n",
    "                \n",
    "                # Extract the description texts\n",
    "                descriptions = data.get('extracted_sections', {}).get('description', [])\n",
    "                description_texts = [desc.get('text', '') for desc in descriptions]\n",
    "                description_combined = \" \".join(description_texts) if description_texts else None\n",
    "                \n",
    "                # Create the dictionary for JSON\n",
    "                json_obj = {\n",
    "                    \"Institution\": institution_name,\n",
    "                    \"Field\": field_name,\n",
    "                    \"Year\": year,\n",
    "                    \"Description\": description_combined\n",
    "                }\n",
    "                json_list.append(json_obj)\n",
    "                \n",
    "                # Append to the data list for DataFrame\n",
    "                data_list.append([institution_name, field_name, year, description_combined])\n",
    "\n",
    "# Create a DataFrame from the data list\n",
    "df = pd.DataFrame(data_list, columns=[\"Institution\", \"Field\", \"Year\", \"Description\"])\n",
    "\n",
    "# Save the DataFrame to a CSV file\n",
    "df.to_csv(\"extracted_data.csv\", index=False)\n",
    "\n",
    "# Save the JSON list to a new JSON file\n",
    "with open(\"extracted_data.json\", \"w\") as outfile:\n",
    "    json.dump(json_list, outfile, indent=4)\n",
    "\n",
    "print(\"Data extraction complete. JSON and CSV files have been created.\")\n"
   ]
  },
  {
   "cell_type": "code",
   "execution_count": null,
   "id": "737f1bbd-500f-4316-a0c3-25b2d42327bc",
   "metadata": {},
   "outputs": [],
   "source": []
  }
 ],
 "metadata": {
  "kernelspec": {
   "display_name": "Python 3 (ipykernel)",
   "language": "python",
   "name": "python3"
  },
  "language_info": {
   "codemirror_mode": {
    "name": "ipython",
    "version": 3
   },
   "file_extension": ".py",
   "mimetype": "text/x-python",
   "name": "python",
   "nbconvert_exporter": "python",
   "pygments_lexer": "ipython3",
   "version": "3.11.7"
  }
 },
 "nbformat": 4,
 "nbformat_minor": 5
}
